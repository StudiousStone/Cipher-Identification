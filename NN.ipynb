{
 "cells": [
  {
   "cell_type": "code",
   "execution_count": 1,
   "metadata": {},
   "outputs": [
    {
     "name": "stderr",
     "output_type": "stream",
     "text": [
      "Using TensorFlow backend.\n",
      "/home/ujjwal/anaconda3/envs/kaggle/lib/python3.5/site-packages/h5py/__init__.py:36: FutureWarning: Conversion of the second argument of issubdtype from `float` to `np.floating` is deprecated. In future, it will be treated as `np.float64 == np.dtype(float).type`.\n",
      "  from ._conv import register_converters as _register_converters\n"
     ]
    }
   ],
   "source": [
    "import pandas as pd\n",
    "from sklearn.feature_extraction.text import TfidfVectorizer\n",
    "from keras.models import Sequential\n",
    "from keras.layers import Dense, Activation\n",
    "from keras.optimizers import Adam"
   ]
  },
  {
   "cell_type": "code",
   "execution_count": 13,
   "metadata": {},
   "outputs": [
    {
     "data": {
      "text/plain": [
       "['Vigenere', 'SS']"
      ]
     },
     "execution_count": 13,
     "metadata": {},
     "output_type": "execute_result"
    }
   ],
   "source": [
    "xls = pd.ExcelFile('CryptoGrams.xlsx')\n",
    "xls.sheet_names"
   ]
  },
  {
   "cell_type": "code",
   "execution_count": 14,
   "metadata": {},
   "outputs": [],
   "source": [
    "ss = pd.read_excel(xls, \"SS\", header=None, names=[\"cipher\"])\n",
    "vig = pd.read_excel(xls, \"Vigenere\", header=None, names=[\"cipher\"])"
   ]
  },
  {
   "cell_type": "markdown",
   "metadata": {},
   "source": [
    "# Train Data Preprocessing"
   ]
  },
  {
   "cell_type": "code",
   "execution_count": 15,
   "metadata": {},
   "outputs": [],
   "source": [
    "df = pd.concat([ss, vig])"
   ]
  },
  {
   "cell_type": "code",
   "execution_count": 16,
   "metadata": {},
   "outputs": [],
   "source": [
    "y =  [0]*50 + [1]*50"
   ]
  },
  {
   "cell_type": "code",
   "execution_count": 17,
   "metadata": {},
   "outputs": [
    {
     "data": {
      "text/plain": [
       "27"
      ]
     },
     "execution_count": 17,
     "metadata": {},
     "output_type": "execute_result"
    }
   ],
   "source": [
    "v = TfidfVectorizer(analyzer='char')\n",
    "x = v.fit_transform(df['cipher'])\n",
    "len(v.get_feature_names())"
   ]
  },
  {
   "cell_type": "code",
   "execution_count": 18,
   "metadata": {},
   "outputs": [],
   "source": [
    "x = x.todense()"
   ]
  },
  {
   "cell_type": "code",
   "execution_count": 19,
   "metadata": {},
   "outputs": [
    {
     "data": {
      "text/plain": [
       "(100, 27)"
      ]
     },
     "execution_count": 19,
     "metadata": {},
     "output_type": "execute_result"
    }
   ],
   "source": [
    "import numpy as np\n",
    "y = np.array(y)\n",
    "x = np.array(x)\n",
    "y.reshape((100,1))\n",
    "x.shape"
   ]
  },
  {
   "cell_type": "code",
   "execution_count": 22,
   "metadata": {},
   "outputs": [],
   "source": [
    "# import docx\n",
    "# doc = docx.Document(\"dataset_cryptosystem.docx\")\n",
    "\n",
    "# text = []\n",
    "# for p in doc.paragraphs:\n",
    "#     text.append(p.text)\n",
    "    \n",
    "# len(text)\n",
    "\n",
    "# d = [0,1,2,3,4,5,6,7,8,9,10,11, 12, 13, 15, 17, 19, 21, 23, 25, 27, 29, 31, 33, 34, 35, 36, 38]\n",
    "# d = sorted(d, reverse=True)\n",
    "# for i in d:\n",
    "#     del text[i]\n",
    "\n",
    "test = pd.read_csv(\"test.csv\", header=None, names=[\"cipher\"])\n",
    "\n",
    "x_test = v.fit_transform(test['cipher'])\n",
    "\n",
    "# test.to_csv(\"test.csv\", index_label=False, header=False)\n",
    "x_test = x_test.todense()\n",
    "x_test = np.array(x_test)"
   ]
  },
  {
   "cell_type": "markdown",
   "metadata": {},
   "source": [
    "# Model"
   ]
  },
  {
   "cell_type": "code",
   "execution_count": 84,
   "metadata": {},
   "outputs": [
    {
     "name": "stdout",
     "output_type": "stream",
     "text": [
      "Epoch 1/30\n",
      "100/100 [==============================] - 0s - loss: 0.6923 - acc: 0.5000\n",
      "Epoch 2/30\n",
      "100/100 [==============================] - 0s - loss: 0.6898 - acc: 0.5000\n",
      "Epoch 3/30\n",
      "100/100 [==============================] - 0s - loss: 0.6875 - acc: 0.5200\n",
      "Epoch 4/30\n",
      "100/100 [==============================] - 0s - loss: 0.6859 - acc: 0.5200\n",
      "Epoch 5/30\n",
      "100/100 [==============================] - 0s - loss: 0.6846 - acc: 0.5100\n",
      "Epoch 6/30\n",
      "100/100 [==============================] - 0s - loss: 0.6838 - acc: 0.6000\n",
      "Epoch 7/30\n",
      "100/100 [==============================] - 0s - loss: 0.6830 - acc: 0.5000\n",
      "Epoch 8/30\n",
      "100/100 [==============================] - 0s - loss: 0.6815 - acc: 0.6500\n",
      "Epoch 9/30\n",
      "100/100 [==============================] - 0s - loss: 0.6808 - acc: 0.5200\n",
      "Epoch 10/30\n",
      "100/100 [==============================] - 0s - loss: 0.6795 - acc: 0.6500\n",
      "Epoch 11/30\n",
      "100/100 [==============================] - 0s - loss: 0.6782 - acc: 0.5600\n",
      "Epoch 12/30\n",
      "100/100 [==============================] - 0s - loss: 0.6774 - acc: 0.6400\n",
      "Epoch 13/30\n",
      "100/100 [==============================] - 0s - loss: 0.6763 - acc: 0.5700\n",
      "Epoch 14/30\n",
      "100/100 [==============================] - 0s - loss: 0.6754 - acc: 0.6500\n",
      "Epoch 15/30\n",
      "100/100 [==============================] - 0s - loss: 0.6744 - acc: 0.5700\n",
      "Epoch 16/30\n",
      "100/100 [==============================] - 0s - loss: 0.6740 - acc: 0.6700\n",
      "Epoch 17/30\n",
      "100/100 [==============================] - 0s - loss: 0.6729 - acc: 0.5900\n",
      "Epoch 18/30\n",
      "100/100 [==============================] - 0s - loss: 0.6716 - acc: 0.6800\n",
      "Epoch 19/30\n",
      "100/100 [==============================] - 0s - loss: 0.6705 - acc: 0.5600\n",
      "Epoch 20/30\n",
      "100/100 [==============================] - 0s - loss: 0.6695 - acc: 0.6700\n",
      "Epoch 21/30\n",
      "100/100 [==============================] - 0s - loss: 0.6682 - acc: 0.5700\n",
      "Epoch 22/30\n",
      "100/100 [==============================] - 0s - loss: 0.6669 - acc: 0.6900\n",
      "Epoch 23/30\n",
      "100/100 [==============================] - 0s - loss: 0.6658 - acc: 0.5800\n",
      "Epoch 24/30\n",
      "100/100 [==============================] - 0s - loss: 0.6647 - acc: 0.7000\n",
      "Epoch 25/30\n",
      "100/100 [==============================] - 0s - loss: 0.6632 - acc: 0.5900\n",
      "Epoch 26/30\n",
      "100/100 [==============================] - 0s - loss: 0.6620 - acc: 0.7000\n",
      "Epoch 27/30\n",
      "100/100 [==============================] - 0s - loss: 0.6607 - acc: 0.5800\n",
      "Epoch 28/30\n",
      "100/100 [==============================] - 0s - loss: 0.6595 - acc: 0.6700\n",
      "Epoch 29/30\n",
      "100/100 [==============================] - 0s - loss: 0.6580 - acc: 0.5800\n",
      "Epoch 30/30\n",
      "100/100 [==============================] - 0s - loss: 0.6568 - acc: 0.6800\n"
     ]
    },
    {
     "data": {
      "text/plain": [
       "<keras.callbacks.History at 0x7f56869314a8>"
      ]
     },
     "execution_count": 84,
     "metadata": {},
     "output_type": "execute_result"
    }
   ],
   "source": [
    "model = Sequential()\n",
    "model.add(Dense(30, input_dim=27, activation='relu'))\n",
    "model.add(Dense(30, activation='relu'))\n",
    "model.add(Dense(30, activation='relu'))\n",
    "model.add(Dense(30, activation='relu'))\n",
    "model.add(Dense(1, activation='sigmoid'))\n",
    "\n",
    "model.compile(loss='binary_crossentropy',\n",
    "              optimizer='rmsprop',\n",
    "              metrics=['accuracy'])\n",
    "\n",
    "model.fit(x, y,\n",
    "          epochs=30,\n",
    "          batch_size=128)"
   ]
  },
  {
   "cell_type": "code",
   "execution_count": 85,
   "metadata": {},
   "outputs": [
    {
     "data": {
      "text/plain": [
       "array([[0.],\n",
       "       [1.],\n",
       "       [0.],\n",
       "       [1.],\n",
       "       [0.],\n",
       "       [1.],\n",
       "       [1.],\n",
       "       [1.],\n",
       "       [0.],\n",
       "       [1.],\n",
       "       [1.],\n",
       "       [1.],\n",
       "       [1.],\n",
       "       [1.],\n",
       "       [1.],\n",
       "       [1.],\n",
       "       [1.],\n",
       "       [1.],\n",
       "       [1.],\n",
       "       [1.]], dtype=float32)"
      ]
     },
     "execution_count": 85,
     "metadata": {},
     "output_type": "execute_result"
    }
   ],
   "source": [
    "y_test = model.predict(x_test)\n",
    "for i in range(len(y_test)):\n",
    "    if y_test[i]>=0.5:\n",
    "        y_test[i]=1\n",
    "    else:\n",
    "        y_test[i]=0\n",
    "y_test"
   ]
  }
 ],
 "metadata": {
  "kernelspec": {
   "display_name": "Python 3",
   "language": "python",
   "name": "python3"
  },
  "language_info": {
   "codemirror_mode": {
    "name": "ipython",
    "version": 3
   },
   "file_extension": ".py",
   "mimetype": "text/x-python",
   "name": "python",
   "nbconvert_exporter": "python",
   "pygments_lexer": "ipython3",
   "version": "3.5.1"
  }
 },
 "nbformat": 4,
 "nbformat_minor": 2
}
