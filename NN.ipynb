{
 "cells": [
  {
   "cell_type": "code",
   "execution_count": 1,
   "metadata": {},
   "outputs": [
    {
     "name": "stderr",
     "output_type": "stream",
     "text": [
      "Using TensorFlow backend.\n",
      "/home/ujjwal/anaconda3/envs/kaggle/lib/python3.5/site-packages/h5py/__init__.py:36: FutureWarning: Conversion of the second argument of issubdtype from `float` to `np.floating` is deprecated. In future, it will be treated as `np.float64 == np.dtype(float).type`.\n",
      "  from ._conv import register_converters as _register_converters\n"
     ]
    }
   ],
   "source": [
    "import pandas as pd\n",
    "from sklearn.feature_extraction.text import TfidfVectorizer\n",
    "from keras.models import Sequential\n",
    "from keras.layers import Dense, Activation\n",
    "from keras.optimizers import Adam"
   ]
  },
  {
   "cell_type": "code",
   "execution_count": 2,
   "metadata": {},
   "outputs": [
    {
     "data": {
      "text/plain": [
       "['Vigenere', 'SS']"
      ]
     },
     "execution_count": 2,
     "metadata": {},
     "output_type": "execute_result"
    }
   ],
   "source": [
    "xls = pd.ExcelFile('CryptoGrams.xls')\n",
    "xls.sheet_names"
   ]
  },
  {
   "cell_type": "code",
   "execution_count": 3,
   "metadata": {},
   "outputs": [],
   "source": [
    "ss = pd.read_excel(xls, \"SS\", header=None, names=[\"cipher\"])\n",
    "vig = pd.read_excel(xls, \"Vigenere\", header=None, names=[\"cipher\"])"
   ]
  },
  {
   "cell_type": "markdown",
   "metadata": {},
   "source": [
    "# Train Data Preprocessing"
   ]
  },
  {
   "cell_type": "code",
   "execution_count": 4,
   "metadata": {},
   "outputs": [],
   "source": [
    "df = pd.concat([ss, vig])"
   ]
  },
  {
   "cell_type": "code",
   "execution_count": 5,
   "metadata": {},
   "outputs": [],
   "source": [
    "y =  [0]*20 + [1]*20"
   ]
  },
  {
   "cell_type": "code",
   "execution_count": 6,
   "metadata": {},
   "outputs": [
    {
     "data": {
      "text/plain": [
       "27"
      ]
     },
     "execution_count": 6,
     "metadata": {},
     "output_type": "execute_result"
    }
   ],
   "source": [
    "v = TfidfVectorizer(analyzer='char')\n",
    "x = v.fit_transform(df['cipher'])\n",
    "len(v.get_feature_names())"
   ]
  },
  {
   "cell_type": "code",
   "execution_count": 7,
   "metadata": {},
   "outputs": [],
   "source": [
    "x = x.todense()"
   ]
  },
  {
   "cell_type": "code",
   "execution_count": 8,
   "metadata": {},
   "outputs": [
    {
     "data": {
      "text/plain": [
       "(40, 27)"
      ]
     },
     "execution_count": 8,
     "metadata": {},
     "output_type": "execute_result"
    }
   ],
   "source": [
    "import numpy as np\n",
    "y = np.array(y)\n",
    "x = np.array(x)\n",
    "y.reshape((40,1))\n",
    "x.shape"
   ]
  },
  {
   "cell_type": "code",
   "execution_count": 33,
   "metadata": {},
   "outputs": [
    {
     "name": "stdout",
     "output_type": "stream",
     "text": [
      "Epoch 1/20\n",
      "40/40 [==============================] - 0s - loss: 0.6933 - acc: 0.5250\n",
      "Epoch 2/20\n",
      "40/40 [==============================] - 0s - loss: 0.6910 - acc: 0.6000\n",
      "Epoch 3/20\n",
      "40/40 [==============================] - 0s - loss: 0.6893 - acc: 0.6250\n",
      "Epoch 4/20\n",
      "40/40 [==============================] - 0s - loss: 0.6880 - acc: 0.5750\n",
      "Epoch 5/20\n",
      "40/40 [==============================] - 0s - loss: 0.6864 - acc: 0.7500\n",
      "Epoch 6/20\n",
      "40/40 [==============================] - 0s - loss: 0.6848 - acc: 0.6000\n",
      "Epoch 7/20\n",
      "40/40 [==============================] - 0s - loss: 0.6830 - acc: 0.7500\n",
      "Epoch 8/20\n",
      "40/40 [==============================] - 0s - loss: 0.6804 - acc: 0.7500\n",
      "Epoch 9/20\n",
      "40/40 [==============================] - 0s - loss: 0.6781 - acc: 0.7500\n",
      "Epoch 10/20\n",
      "40/40 [==============================] - 0s - loss: 0.6754 - acc: 0.7750\n",
      "Epoch 11/20\n",
      "40/40 [==============================] - 0s - loss: 0.6734 - acc: 0.7500\n",
      "Epoch 12/20\n",
      "40/40 [==============================] - 0s - loss: 0.6708 - acc: 0.7750\n",
      "Epoch 13/20\n",
      "40/40 [==============================] - 0s - loss: 0.6684 - acc: 0.7750\n",
      "Epoch 14/20\n",
      "40/40 [==============================] - 0s - loss: 0.6664 - acc: 0.7500\n",
      "Epoch 15/20\n",
      "40/40 [==============================] - 0s - loss: 0.6643 - acc: 0.8500\n",
      "Epoch 16/20\n",
      "40/40 [==============================] - 0s - loss: 0.6616 - acc: 0.7500\n",
      "Epoch 17/20\n",
      "40/40 [==============================] - 0s - loss: 0.6599 - acc: 0.8500\n",
      "Epoch 18/20\n",
      "40/40 [==============================] - 0s - loss: 0.6571 - acc: 0.7500\n",
      "Epoch 19/20\n",
      "40/40 [==============================] - 0s - loss: 0.6551 - acc: 0.8750\n",
      "Epoch 20/20\n",
      "40/40 [==============================] - 0s - loss: 0.6525 - acc: 0.7500\n"
     ]
    },
    {
     "data": {
      "text/plain": [
       "<keras.callbacks.History at 0x7f90d560beb8>"
      ]
     },
     "execution_count": 33,
     "metadata": {},
     "output_type": "execute_result"
    }
   ],
   "source": [
    "model = Sequential()\n",
    "model.add(Dense(30, input_dim=27, activation='relu'))\n",
    "model.add(Dense(30, activation='relu'))\n",
    "model.add(Dense(30, activation='relu'))\n",
    "model.add(Dense(30, activation='relu'))\n",
    "model.add(Dense(1, activation='sigmoid'))\n",
    "\n",
    "model.compile(loss='binary_crossentropy',\n",
    "              optimizer='rmsprop',\n",
    "              metrics=['accuracy'])\n",
    "\n",
    "model.fit(x, y,\n",
    "          epochs=20,\n",
    "          batch_size=128)"
   ]
  },
  {
   "cell_type": "markdown",
   "metadata": {},
   "source": [
    "# Model"
   ]
  },
  {
   "cell_type": "markdown",
   "metadata": {},
   "source": [
    "# Test Data Preprocessing"
   ]
  },
  {
   "cell_type": "code",
   "execution_count": 14,
   "metadata": {},
   "outputs": [],
   "source": [
    "# import docx\n",
    "# doc = docx.Document(\"dataset_cryptosystem.docx\")\n",
    "\n",
    "# text = []\n",
    "# for p in doc.paragraphs:\n",
    "#     text.append(p.text)\n",
    "    \n",
    "# len(text)\n",
    "\n",
    "# d = [0,1,2,3,4,5,6,7,8,9,10,11, 12, 13, 15, 17, 19, 21, 23, 25, 27, 29, 31, 33, 34, 35, 36, 38]\n",
    "# d = sorted(d, reverse=True)\n",
    "# for i in d:\n",
    "#     del text[i]\n",
    "\n",
    "test = pd.read_csv(\"test.csv\", header=None, names=[\"cipher\"])\n",
    "\n",
    "x_test = v.fit_transform(test['cipher'])\n",
    "\n",
    "# test.to_csv(\"test.csv\", index_label=False, header=False)\n",
    "x_test = x_test.todense()\n",
    "x_test = np.array(x_test)"
   ]
  },
  {
   "cell_type": "code",
   "execution_count": 34,
   "metadata": {},
   "outputs": [],
   "source": [
    "y_test = model.predict(x_test)"
   ]
  },
  {
   "cell_type": "code",
   "execution_count": 35,
   "metadata": {},
   "outputs": [
    {
     "data": {
      "text/plain": [
       "array([[0.52010775],\n",
       "       [0.5507811 ],\n",
       "       [0.5204869 ],\n",
       "       [0.5376368 ],\n",
       "       [0.52581435],\n",
       "       [0.571827  ],\n",
       "       [0.5517347 ],\n",
       "       [0.5493336 ],\n",
       "       [0.5274249 ],\n",
       "       [0.5330628 ],\n",
       "       [0.5350123 ],\n",
       "       [0.50898063],\n",
       "       [0.5060776 ],\n",
       "       [0.49523363],\n",
       "       [0.5348042 ],\n",
       "       [0.5129416 ],\n",
       "       [0.49972346],\n",
       "       [0.51062226],\n",
       "       [0.5111057 ],\n",
       "       [0.50401706]], dtype=float32)"
      ]
     },
     "execution_count": 35,
     "metadata": {},
     "output_type": "execute_result"
    }
   ],
   "source": [
    "y_test"
   ]
  }
 ],
 "metadata": {
  "kernelspec": {
   "display_name": "Python 3",
   "language": "python",
   "name": "python3"
  },
  "language_info": {
   "codemirror_mode": {
    "name": "ipython",
    "version": 3
   },
   "file_extension": ".py",
   "mimetype": "text/x-python",
   "name": "python",
   "nbconvert_exporter": "python",
   "pygments_lexer": "ipython3",
   "version": "3.5.1"
  }
 },
 "nbformat": 4,
 "nbformat_minor": 2
}
