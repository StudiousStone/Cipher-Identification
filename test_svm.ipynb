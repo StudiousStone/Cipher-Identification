{
 "cells": [
  {
   "cell_type": "code",
   "execution_count": 1,
   "metadata": {},
   "outputs": [],
   "source": [
    "import pandas as pd\n",
    "from sklearn.feature_extraction.text import TfidfVectorizer"
   ]
  },
  {
   "cell_type": "code",
   "execution_count": 2,
   "metadata": {},
   "outputs": [
    {
     "data": {
      "text/plain": [
       "['Vigenere', 'SS']"
      ]
     },
     "execution_count": 2,
     "metadata": {},
     "output_type": "execute_result"
    }
   ],
   "source": [
    "xls = pd.ExcelFile('CryptoGrams.xls')\n",
    "xls.sheet_names"
   ]
  },
  {
   "cell_type": "code",
   "execution_count": 3,
   "metadata": {},
   "outputs": [],
   "source": [
    "ss = pd.read_excel(xls, \"SS\", header=None, names=[\"cipher\"])\n",
    "vig = pd.read_excel(xls, \"Vigenere\", header=None, names=[\"cipher\"])"
   ]
  },
  {
   "cell_type": "markdown",
   "metadata": {},
   "source": [
    "# Train Data Preprocessing"
   ]
  },
  {
   "cell_type": "code",
   "execution_count": 4,
   "metadata": {},
   "outputs": [],
   "source": [
    "df = pd.concat([ss, vig])"
   ]
  },
  {
   "cell_type": "code",
   "execution_count": 5,
   "metadata": {},
   "outputs": [],
   "source": [
    "y =  [0]*20 + [1]*20"
   ]
  },
  {
   "cell_type": "code",
   "execution_count": null,
   "metadata": {},
   "outputs": [],
   "source": [
    "# ss_train = pd.concat([ss, vig.iloc[:5]])\n",
    "# ss_train"
   ]
  },
  {
   "cell_type": "code",
   "execution_count": null,
   "metadata": {},
   "outputs": [],
   "source": [
    "# vig_train = pd.concat([vig, ss.iloc[:5]])\n",
    "# vig_train"
   ]
  },
  {
   "cell_type": "code",
   "execution_count": null,
   "metadata": {},
   "outputs": [],
   "source": [
    "# y_ss = [0]*20 + [1]*5\n",
    "# y_vig = [1]*20 + [0]*5"
   ]
  },
  {
   "cell_type": "markdown",
   "metadata": {},
   "source": [
    "# Model"
   ]
  },
  {
   "cell_type": "code",
   "execution_count": 6,
   "metadata": {},
   "outputs": [
    {
     "data": {
      "text/plain": [
       "27"
      ]
     },
     "execution_count": 6,
     "metadata": {},
     "output_type": "execute_result"
    }
   ],
   "source": [
    "v = TfidfVectorizer(analyzer='char')\n",
    "x = v.fit_transform(df['cipher'])\n",
    "len(v.get_feature_names())"
   ]
  },
  {
   "cell_type": "code",
   "execution_count": null,
   "metadata": {},
   "outputs": [],
   "source": [
    "# v = TfidfVectorizer(analyzer='char')\n",
    "# x_vig = v.fit_transform(vig_train['cipher'])\n",
    "# len(v.get_feature_names())"
   ]
  },
  {
   "cell_type": "code",
   "execution_count": 7,
   "metadata": {},
   "outputs": [
    {
     "data": {
      "text/plain": [
       "SVC(C=1.0, cache_size=200, class_weight=None, coef0=0.0,\n",
       "  decision_function_shape='ovr', degree=3, gamma='auto', kernel='rbf',\n",
       "  max_iter=-1, probability=True, random_state=None, shrinking=True,\n",
       "  tol=0.001, verbose=False)"
      ]
     },
     "execution_count": 7,
     "metadata": {},
     "output_type": "execute_result"
    }
   ],
   "source": [
    "from sklearn.svm import SVC\n",
    "clf = SVC(probability=True)\n",
    "clf.fit(x, y)"
   ]
  },
  {
   "cell_type": "code",
   "execution_count": null,
   "metadata": {},
   "outputs": [],
   "source": [
    "# from sklearn.svm import SVC\n",
    "# clf_1 = SVC(kernel=\"poly\")\n",
    "# clf_1.fit(x_vig, y_vig)"
   ]
  },
  {
   "cell_type": "markdown",
   "metadata": {},
   "source": [
    "# Test Data Preprocessing"
   ]
  },
  {
   "cell_type": "code",
   "execution_count": 8,
   "metadata": {},
   "outputs": [],
   "source": [
    "# import docx\n",
    "# doc = docx.Document(\"dataset_cryptosystem.docx\")\n",
    "\n",
    "# text = []\n",
    "# for p in doc.paragraphs:\n",
    "#     text.append(p.text)\n",
    "    \n",
    "# len(text)\n",
    "\n",
    "# d = [0,1,2,3,4,5,6,7,8,9,10,11, 12, 13, 15, 17, 19, 21, 23, 25, 27, 29, 31, 33, 34, 35, 36, 38]\n",
    "# d = sorted(d, reverse=True)\n",
    "# for i in d:\n",
    "#     del text[i]\n",
    "\n",
    "test = pd.read_csv(\"test.csv\", header=None, names=[\"cipher\"])\n",
    "\n",
    "y_test = [1]*10 + [0]*10\n",
    "\n",
    "x_test = v.fit_transform(test['cipher'])\n",
    "\n",
    "# test.to_csv(\"test.csv\", index_label=False, header=False)"
   ]
  },
  {
   "cell_type": "markdown",
   "metadata": {},
   "source": [
    "# Prediction"
   ]
  },
  {
   "cell_type": "code",
   "execution_count": 9,
   "metadata": {},
   "outputs": [
    {
     "data": {
      "text/plain": [
       "array([1, 1, 1, 1, 1, 1, 1, 1, 1, 1, 1, 1, 1, 1, 1, 1, 1, 1, 1, 1])"
      ]
     },
     "execution_count": 9,
     "metadata": {},
     "output_type": "execute_result"
    }
   ],
   "source": [
    "clf.predict(x_test)"
   ]
  },
  {
   "cell_type": "code",
   "execution_count": 11,
   "metadata": {},
   "outputs": [
    {
     "data": {
      "text/plain": [
       "matrix([[0.21845884, 0.31555165, 0.12436286, ..., 0.24273204, 0.12136602,\n",
       "         0.14563922],\n",
       "        [0.22049491, 0.12249717, 0.27614829, ..., 0.09799774, 0.17149604,\n",
       "         0.14699661],\n",
       "        [0.22113289, 0.27027354, 0.07553108, ..., 0.29484386, 0.14742193,\n",
       "         0.22113289],\n",
       "        ...,\n",
       "        [0.22567452, 0.20059958, 0.17985879, ..., 0.20059958, 0.15044968,\n",
       "         0.25074947],\n",
       "        [0.21723357, 0.12068532, 0.07419921, ..., 0.16895944, 0.19309651,\n",
       "         0.04827413],\n",
       "        [0.2167291 , 0.04816202, 0.17272944, ..., 0.2167291 , 0.14448607,\n",
       "         0.2167291 ]])"
      ]
     },
     "execution_count": 11,
     "metadata": {},
     "output_type": "execute_result"
    }
   ],
   "source": [
    "from scipy.sparse import csr_matrix\n",
    "x.todense()"
   ]
  }
 ],
 "metadata": {
  "kernelspec": {
   "display_name": "Python 3",
   "language": "python",
   "name": "python3"
  },
  "language_info": {
   "codemirror_mode": {
    "name": "ipython",
    "version": 3
   },
   "file_extension": ".py",
   "mimetype": "text/x-python",
   "name": "python",
   "nbconvert_exporter": "python",
   "pygments_lexer": "ipython3",
   "version": "3.5.1"
  }
 },
 "nbformat": 4,
 "nbformat_minor": 2
}
