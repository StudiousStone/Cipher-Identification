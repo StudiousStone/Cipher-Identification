{
 "cells": [
  {
   "cell_type": "code",
   "execution_count": 1,
   "metadata": {},
   "outputs": [],
   "source": [
    "import pandas as pd\n",
    "from sklearn.feature_extraction.text import TfidfVectorizer"
   ]
  },
  {
   "cell_type": "code",
   "execution_count": 2,
   "metadata": {},
   "outputs": [
    {
     "data": {
      "text/plain": [
       "['Vigenere', 'SS']"
      ]
     },
     "execution_count": 2,
     "metadata": {},
     "output_type": "execute_result"
    }
   ],
   "source": [
    "xls = pd.ExcelFile('CryptoGrams.xlsx')\n",
    "xls.sheet_names"
   ]
  },
  {
   "cell_type": "code",
   "execution_count": 3,
   "metadata": {},
   "outputs": [],
   "source": [
    "ss = pd.read_excel(xls, \"SS\", header=None, names=[\"cipher\"])\n",
    "vig = pd.read_excel(xls, \"Vigenere\", header=None, names=[\"cipher\"])"
   ]
  },
  {
   "cell_type": "markdown",
   "metadata": {},
   "source": [
    "# Data Preprocessing"
   ]
  },
  {
   "cell_type": "code",
   "execution_count": 4,
   "metadata": {},
   "outputs": [],
   "source": [
    "df = pd.concat([ss, vig])"
   ]
  },
  {
   "cell_type": "code",
   "execution_count": 5,
   "metadata": {},
   "outputs": [],
   "source": [
    "y =  [0]*50 + [1]*50"
   ]
  },
  {
   "cell_type": "code",
   "execution_count": 6,
   "metadata": {},
   "outputs": [
    {
     "data": {
      "text/plain": [
       "27"
      ]
     },
     "execution_count": 6,
     "metadata": {},
     "output_type": "execute_result"
    }
   ],
   "source": [
    "v = TfidfVectorizer(analyzer='char')\n",
    "x = v.fit_transform(df['cipher'])\n",
    "len(v.get_feature_names())"
   ]
  },
  {
   "cell_type": "code",
   "execution_count": 8,
   "metadata": {},
   "outputs": [],
   "source": [
    "# import docx\n",
    "# doc = docx.Document(\"dataset_cryptosystem.docx\")\n",
    "\n",
    "# text = []\n",
    "# for p in doc.paragraphs:\n",
    "#     text.append(p.text)\n",
    "    \n",
    "# len(text)\n",
    "\n",
    "# d = [0,1,2,3,4,5,6,7,8,9,10,11, 12, 13, 15, 17, 19, 21, 23, 25, 27, 29, 31, 33, 34, 35, 36, 38]\n",
    "# d = sorted(d, reverse=True)\n",
    "# for i in d:\n",
    "#     del text[i]\n",
    "\n",
    "test = pd.read_csv(\"test.csv\", header=None, names=[\"cipher\"])\n",
    "\n",
    "x_test = v.fit_transform(test['cipher'])\n",
    "\n",
    "# test.to_csv(\"test.csv\", index_label=False, header=False)"
   ]
  },
  {
   "cell_type": "markdown",
   "metadata": {},
   "source": [
    "# Model"
   ]
  },
  {
   "cell_type": "code",
   "execution_count": 27,
   "metadata": {},
   "outputs": [
    {
     "name": "stderr",
     "output_type": "stream",
     "text": [
      "/home/ujjwal/anaconda3/envs/kaggle/lib/python3.5/site-packages/sklearn/svm/base.py:218: ConvergenceWarning: Solver terminated early (max_iter=2).  Consider pre-processing your data with StandardScaler or MinMaxScaler.\n",
      "  % self.max_iter, ConvergenceWarning)\n"
     ]
    },
    {
     "data": {
      "text/plain": [
       "SVC(C=1.0, cache_size=200, class_weight=None, coef0=0.0,\n",
       "  decision_function_shape='ovr', degree=3, gamma='auto', kernel='rbf',\n",
       "  max_iter=2, probability=False, random_state=None, shrinking=True,\n",
       "  tol=0.001, verbose=False)"
      ]
     },
     "execution_count": 27,
     "metadata": {},
     "output_type": "execute_result"
    }
   ],
   "source": [
    "from sklearn.svm import SVC\n",
    "clf = SVC(max_iter=2)\n",
    "clf.fit(x, y)"
   ]
  },
  {
   "cell_type": "code",
   "execution_count": 28,
   "metadata": {},
   "outputs": [
    {
     "data": {
      "text/plain": [
       "array([0, 0, 0, 0, 0, 0, 0, 0, 0, 0, 1, 1, 1, 1, 1, 1, 1, 1, 1, 1])"
      ]
     },
     "execution_count": 28,
     "metadata": {},
     "output_type": "execute_result"
    }
   ],
   "source": [
    "clf.predict(x_test)"
   ]
  },
  {
   "cell_type": "code",
   "execution_count": 30,
   "metadata": {},
   "outputs": [
    {
     "data": {
      "text/html": [
       "<div>\n",
       "<style>\n",
       "    .dataframe thead tr:only-child th {\n",
       "        text-align: right;\n",
       "    }\n",
       "\n",
       "    .dataframe thead th {\n",
       "        text-align: left;\n",
       "    }\n",
       "\n",
       "    .dataframe tbody tr th {\n",
       "        vertical-align: top;\n",
       "    }\n",
       "</style>\n",
       "<table border=\"1\" class=\"dataframe\">\n",
       "  <thead>\n",
       "    <tr style=\"text-align: right;\">\n",
       "      <th></th>\n",
       "      <th>cipher</th>\n",
       "    </tr>\n",
       "  </thead>\n",
       "  <tbody>\n",
       "    <tr>\n",
       "      <th>0</th>\n",
       "      <td>TK XZZ VZZKO QHVJ SZ XNWAD LS HXUNCYZYY RZHHLQ...</td>\n",
       "    </tr>\n",
       "    <tr>\n",
       "      <th>1</th>\n",
       "      <td>NFTRMS EMD TSSPWDDY NQ ZMOJQRWZOX ECTL MTSS NM...</td>\n",
       "    </tr>\n",
       "    <tr>\n",
       "      <th>2</th>\n",
       "      <td>MQDXX RFHG LX QZFC DFEPYX LNQ ATKWZSTTM HFSPW ...</td>\n",
       "    </tr>\n",
       "    <tr>\n",
       "      <th>3</th>\n",
       "      <td>LQDCYR EMD XFQNTMT XNNNDED HD F EZZMOFSTTM OJC...</td>\n",
       "    </tr>\n",
       "    <tr>\n",
       "      <th>4</th>\n",
       "      <td>PXDLWBSJQD BHEM SSJ XZZMR XBSTKLW ZHFQO TTC DN...</td>\n",
       "    </tr>\n",
       "    <tr>\n",
       "      <th>5</th>\n",
       "      <td>UJBE MZD XTNHDDXEFQKJ NLAWNGJC EMD SJZWYG ZK O...</td>\n",
       "    </tr>\n",
       "    <tr>\n",
       "      <th>6</th>\n",
       "      <td>YWNWQDO FS LS HYIHLS DYLHYJDCNMR NMDYHEZSTTM E...</td>\n",
       "    </tr>\n",
       "    <tr>\n",
       "      <th>7</th>\n",
       "      <td>E DNFW SPFL OJSLNKD YN EMHD QHYP EZW PFJRENNYX...</td>\n",
       "    </tr>\n",
       "    <tr>\n",
       "      <th>8</th>\n",
       "      <td>HJDVJMO YVZ UZCYHNNOLSSD KQZR DLHG EJZX RTDY S...</td>\n",
       "    </tr>\n",
       "    <tr>\n",
       "      <th>9</th>\n",
       "      <td>L XD TN SSJ RPQDNYDO YDLRR HNKW NMEJQY FS TNS ...</td>\n",
       "    </tr>\n",
       "    <tr>\n",
       "      <th>10</th>\n",
       "      <td>OB RCA ICAYX YOMU DC LCYVU HE OTZCPDHED LCJOHY...</td>\n",
       "    </tr>\n",
       "    <tr>\n",
       "      <th>11</th>\n",
       "      <td>JHAFSD DSU OEDUPULD CB AEXUPFPHXL BPCT KCDS OE...</td>\n",
       "    </tr>\n",
       "    <tr>\n",
       "      <th>12</th>\n",
       "      <td>KYUTL LAJS HL PCHX LHBUDR HOP ZCYYADOCE IHDUP ...</td>\n",
       "    </tr>\n",
       "    <tr>\n",
       "      <th>13</th>\n",
       "      <td>HYUPDL DSU THPJCEO LCJOUDR OL H BCAEXHDOCE XUX...</td>\n",
       "    </tr>\n",
       "    <tr>\n",
       "      <th>14</th>\n",
       "      <td>ULUHPJSUPL IODS DSU RCAEF LJSCYHP HIHPX CAP RC...</td>\n",
       "    </tr>\n",
       "    <tr>\n",
       "      <th>15</th>\n",
       "      <td>NUJD SHL LAJJULLBAYYR OTZPCVUX DSU SUHYDS CB Z...</td>\n",
       "    </tr>\n",
       "    <tr>\n",
       "      <th>16</th>\n",
       "      <td>EPCYYUX HD HE OEXOHE UEFOEUUPOEF OELDODADOCE D...</td>\n",
       "    </tr>\n",
       "    <tr>\n",
       "      <th>17</th>\n",
       "      <td>D RCAP DUHT XUDHOYL DC DSOL YOEM BCP WAULDOCEL...</td>\n",
       "    </tr>\n",
       "    <tr>\n",
       "      <th>18</th>\n",
       "      <td>IUUMUEX DIC ZHPDOJOZHEDL BPCT UHJS DUHT TALD D...</td>\n",
       "    </tr>\n",
       "    <tr>\n",
       "      <th>19</th>\n",
       "      <td>H LU OO DSU LUYUJDUX DUHTL IOYY OEDUPE HD OOD ...</td>\n",
       "    </tr>\n",
       "  </tbody>\n",
       "</table>\n",
       "</div>"
      ],
      "text/plain": [
       "                                               cipher\n",
       "0   TK XZZ VZZKO QHVJ SZ XNWAD LS HXUNCYZYY RZHHLQ...\n",
       "1   NFTRMS EMD TSSPWDDY NQ ZMOJQRWZOX ECTL MTSS NM...\n",
       "2   MQDXX RFHG LX QZFC DFEPYX LNQ ATKWZSTTM HFSPW ...\n",
       "3   LQDCYR EMD XFQNTMT XNNNDED HD F EZZMOFSTTM OJC...\n",
       "4   PXDLWBSJQD BHEM SSJ XZZMR XBSTKLW ZHFQO TTC DN...\n",
       "5   UJBE MZD XTNHDDXEFQKJ NLAWNGJC EMD SJZWYG ZK O...\n",
       "6   YWNWQDO FS LS HYIHLS DYLHYJDCNMR NMDYHEZSTTM E...\n",
       "7   E DNFW SPFL OJSLNKD YN EMHD QHYP EZW PFJRENNYX...\n",
       "8   HJDVJMO YVZ UZCYHNNOLSSD KQZR DLHG EJZX RTDY S...\n",
       "9   L XD TN SSJ RPQDNYDO YDLRR HNKW NMEJQY FS TNS ...\n",
       "10  OB RCA ICAYX YOMU DC LCYVU HE OTZCPDHED LCJOHY...\n",
       "11  JHAFSD DSU OEDUPULD CB AEXUPFPHXL BPCT KCDS OE...\n",
       "12  KYUTL LAJS HL PCHX LHBUDR HOP ZCYYADOCE IHDUP ...\n",
       "13  HYUPDL DSU THPJCEO LCJOUDR OL H BCAEXHDOCE XUX...\n",
       "14  ULUHPJSUPL IODS DSU RCAEF LJSCYHP HIHPX CAP RC...\n",
       "15  NUJD SHL LAJJULLBAYYR OTZPCVUX DSU SUHYDS CB Z...\n",
       "16  EPCYYUX HD HE OEXOHE UEFOEUUPOEF OELDODADOCE D...\n",
       "17  D RCAP DUHT XUDHOYL DC DSOL YOEM BCP WAULDOCEL...\n",
       "18  IUUMUEX DIC ZHPDOJOZHEDL BPCT UHJS DUHT TALD D...\n",
       "19  H LU OO DSU LUYUJDUX DUHTL IOYY OEDUPE HD OOD ..."
      ]
     },
     "execution_count": 30,
     "metadata": {},
     "output_type": "execute_result"
    }
   ],
   "source": [
    "test"
   ]
  }
 ],
 "metadata": {
  "kernelspec": {
   "display_name": "Python 3",
   "language": "python",
   "name": "python3"
  },
  "language_info": {
   "codemirror_mode": {
    "name": "ipython",
    "version": 3
   },
   "file_extension": ".py",
   "mimetype": "text/x-python",
   "name": "python",
   "nbconvert_exporter": "python",
   "pygments_lexer": "ipython3",
   "version": "3.5.1"
  }
 },
 "nbformat": 4,
 "nbformat_minor": 2
}
