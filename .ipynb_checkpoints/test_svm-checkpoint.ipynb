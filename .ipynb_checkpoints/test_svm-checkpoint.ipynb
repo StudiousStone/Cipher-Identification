{
 "cells": [
  {
   "cell_type": "code",
   "execution_count": 1,
   "metadata": {},
   "outputs": [],
   "source": [
    "import pandas as pd\n",
    "from sklearn.feature_extraction.text import TfidfVectorizer"
   ]
  },
  {
   "cell_type": "code",
   "execution_count": 2,
   "metadata": {},
   "outputs": [
    {
     "data": {
      "text/plain": [
       "['Vigenere', 'SS']"
      ]
     },
     "execution_count": 2,
     "metadata": {},
     "output_type": "execute_result"
    }
   ],
   "source": [
    "xls = pd.ExcelFile('CryptoGrams.xls')\n",
    "xls.sheet_names"
   ]
  },
  {
   "cell_type": "code",
   "execution_count": 3,
   "metadata": {},
   "outputs": [],
   "source": [
    "ss = pd.read_excel(xls, \"SS\", header=None, names=[\"cipher\"])\n",
    "vig = pd.read_excel(xls, \"Vigenere\", header=None, names=[\"cipher\"])"
   ]
  },
  {
   "cell_type": "markdown",
   "metadata": {},
   "source": [
    "# Train Data Preprocessing"
   ]
  },
  {
   "cell_type": "code",
   "execution_count": 14,
   "metadata": {},
   "outputs": [
    {
     "data": {
      "text/html": [
       "<div>\n",
       "<style>\n",
       "    .dataframe thead tr:only-child th {\n",
       "        text-align: right;\n",
       "    }\n",
       "\n",
       "    .dataframe thead th {\n",
       "        text-align: left;\n",
       "    }\n",
       "\n",
       "    .dataframe tbody tr th {\n",
       "        vertical-align: top;\n",
       "    }\n",
       "</style>\n",
       "<table border=\"1\" class=\"dataframe\">\n",
       "  <thead>\n",
       "    <tr style=\"text-align: right;\">\n",
       "      <th></th>\n",
       "      <th>cipher</th>\n",
       "    </tr>\n",
       "  </thead>\n",
       "  <tbody>\n",
       "    <tr>\n",
       "      <th>0</th>\n",
       "      <td>lukkoaezmimshodjlrjq icvyokyajlajthdpxalo vdqe...</td>\n",
       "    </tr>\n",
       "    <tr>\n",
       "      <th>1</th>\n",
       "      <td>behitjkmcfszkgsfbcwu srujjtldknjxqqlibbjx wzmo...</td>\n",
       "    </tr>\n",
       "    <tr>\n",
       "      <th>2</th>\n",
       "      <td>njrcscnszldtazxvnony agwxyylgxlfnwucdguxv mxoq...</td>\n",
       "    </tr>\n",
       "    <tr>\n",
       "      <th>3</th>\n",
       "      <td>gljchoxdkoqkjxklctyd zmvbvgoytjewtoucejgb tzio...</td>\n",
       "    </tr>\n",
       "    <tr>\n",
       "      <th>4</th>\n",
       "      <td>xvqaldwhsmnufzrkooga gxojzvmyeaqshxuctgnb hmiw...</td>\n",
       "    </tr>\n",
       "    <tr>\n",
       "      <th>5</th>\n",
       "      <td>wyodmpnzturtedmnonms nxxydgszfzavodjavyeo askq...</td>\n",
       "    </tr>\n",
       "    <tr>\n",
       "      <th>6</th>\n",
       "      <td>xxvbhmuxeyzgszsgzvgm olrnmyrgtrjxjtnnxitq hple...</td>\n",
       "    </tr>\n",
       "    <tr>\n",
       "      <th>7</th>\n",
       "      <td>zjuitltevxmrrjpkqzeq vquokeesfluwktzmnxkh iadv...</td>\n",
       "    </tr>\n",
       "    <tr>\n",
       "      <th>8</th>\n",
       "      <td>mlewmindbddagrcqnbdo myzulsfqksvlmzagzrfp dohu...</td>\n",
       "    </tr>\n",
       "    <tr>\n",
       "      <th>9</th>\n",
       "      <td>qzqlvvugtvoborhbygfr xgiwkqzokwrescqcwzam xzhq...</td>\n",
       "    </tr>\n",
       "    <tr>\n",
       "      <th>10</th>\n",
       "      <td>dskmcwlzjywzccxnttko whxmbvrgbsgpducuvdrk xnpu...</td>\n",
       "    </tr>\n",
       "    <tr>\n",
       "      <th>11</th>\n",
       "      <td>ggwcupwwpxsfrxgyiper oedvhkdihmbhthiytvzd lgsy...</td>\n",
       "    </tr>\n",
       "    <tr>\n",
       "      <th>12</th>\n",
       "      <td>thyxnxbeekufkkdsjmdt qldbrorosubpmavcfnpb ltcj...</td>\n",
       "    </tr>\n",
       "    <tr>\n",
       "      <th>13</th>\n",
       "      <td>obaugceiolvsykkaeygb ohzsmtakbomrjrqaesop rday...</td>\n",
       "    </tr>\n",
       "    <tr>\n",
       "      <th>14</th>\n",
       "      <td>cjhueissgomxbziyprlc ltdywkmzxqtxwhiqjemr jhea...</td>\n",
       "    </tr>\n",
       "    <tr>\n",
       "      <th>15</th>\n",
       "      <td>xlvzybvhhxbfsdppyjcs ilqukgrtgtwjqgukefqy kazk...</td>\n",
       "    </tr>\n",
       "    <tr>\n",
       "      <th>16</th>\n",
       "      <td>vlokbtdngqmwlltlvbyz zqzikfljdzextfjmlncc fliw...</td>\n",
       "    </tr>\n",
       "    <tr>\n",
       "      <th>17</th>\n",
       "      <td>bawwwvcwwtagezdpqzme lxcargyfeozgugyskqqu dtvz...</td>\n",
       "    </tr>\n",
       "    <tr>\n",
       "      <th>18</th>\n",
       "      <td>vpbcaailrmeybibysgno vfzhyohbkvecmrueahys zjru...</td>\n",
       "    </tr>\n",
       "    <tr>\n",
       "      <th>19</th>\n",
       "      <td>wdzhhgvnnaljaajkxxnu vmqniaxgbfnfzcyxcqvg bdon...</td>\n",
       "    </tr>\n",
       "    <tr>\n",
       "      <th>0</th>\n",
       "      <td>cizlmsxtigofkmrmwwmb uyzjsfjegqegkkxpnyqs zrhr...</td>\n",
       "    </tr>\n",
       "    <tr>\n",
       "      <th>1</th>\n",
       "      <td>dxeuwgzusertzjlepsoo lwogawwrlnanbvcadpgb atis...</td>\n",
       "    </tr>\n",
       "    <tr>\n",
       "      <th>2</th>\n",
       "      <td>naisfynfzwrwynnzhsnj edonpjcdbckhaimddcnz inmv...</td>\n",
       "    </tr>\n",
       "    <tr>\n",
       "      <th>3</th>\n",
       "      <td>jwayegnxzsbzmhzcskvx nuzdfdgvqaxuksimxgxp qngm...</td>\n",
       "    </tr>\n",
       "    <tr>\n",
       "      <th>4</th>\n",
       "      <td>bfbscxoklitiezczsmxe dbsgnfojxyvreboskjnd koua...</td>\n",
       "    </tr>\n",
       "  </tbody>\n",
       "</table>\n",
       "</div>"
      ],
      "text/plain": [
       "                                               cipher\n",
       "0   lukkoaezmimshodjlrjq icvyokyajlajthdpxalo vdqe...\n",
       "1   behitjkmcfszkgsfbcwu srujjtldknjxqqlibbjx wzmo...\n",
       "2   njrcscnszldtazxvnony agwxyylgxlfnwucdguxv mxoq...\n",
       "3   gljchoxdkoqkjxklctyd zmvbvgoytjewtoucejgb tzio...\n",
       "4   xvqaldwhsmnufzrkooga gxojzvmyeaqshxuctgnb hmiw...\n",
       "5   wyodmpnzturtedmnonms nxxydgszfzavodjavyeo askq...\n",
       "6   xxvbhmuxeyzgszsgzvgm olrnmyrgtrjxjtnnxitq hple...\n",
       "7   zjuitltevxmrrjpkqzeq vquokeesfluwktzmnxkh iadv...\n",
       "8   mlewmindbddagrcqnbdo myzulsfqksvlmzagzrfp dohu...\n",
       "9   qzqlvvugtvoborhbygfr xgiwkqzokwrescqcwzam xzhq...\n",
       "10  dskmcwlzjywzccxnttko whxmbvrgbsgpducuvdrk xnpu...\n",
       "11  ggwcupwwpxsfrxgyiper oedvhkdihmbhthiytvzd lgsy...\n",
       "12  thyxnxbeekufkkdsjmdt qldbrorosubpmavcfnpb ltcj...\n",
       "13  obaugceiolvsykkaeygb ohzsmtakbomrjrqaesop rday...\n",
       "14  cjhueissgomxbziyprlc ltdywkmzxqtxwhiqjemr jhea...\n",
       "15  xlvzybvhhxbfsdppyjcs ilqukgrtgtwjqgukefqy kazk...\n",
       "16  vlokbtdngqmwlltlvbyz zqzikfljdzextfjmlncc fliw...\n",
       "17  bawwwvcwwtagezdpqzme lxcargyfeozgugyskqqu dtvz...\n",
       "18  vpbcaailrmeybibysgno vfzhyohbkvecmrueahys zjru...\n",
       "19  wdzhhgvnnaljaajkxxnu vmqniaxgbfnfzcyxcqvg bdon...\n",
       "0   cizlmsxtigofkmrmwwmb uyzjsfjegqegkkxpnyqs zrhr...\n",
       "1   dxeuwgzusertzjlepsoo lwogawwrlnanbvcadpgb atis...\n",
       "2   naisfynfzwrwynnzhsnj edonpjcdbckhaimddcnz inmv...\n",
       "3   jwayegnxzsbzmhzcskvx nuzdfdgvqaxuksimxgxp qngm...\n",
       "4   bfbscxoklitiezczsmxe dbsgnfojxyvreboskjnd koua..."
      ]
     },
     "execution_count": 14,
     "metadata": {},
     "output_type": "execute_result"
    }
   ],
   "source": [
    "ss_train = pd.concat([ss, vig.iloc[:5]])\n",
    "ss_train"
   ]
  },
  {
   "cell_type": "code",
   "execution_count": 15,
   "metadata": {},
   "outputs": [
    {
     "data": {
      "text/html": [
       "<div>\n",
       "<style>\n",
       "    .dataframe thead tr:only-child th {\n",
       "        text-align: right;\n",
       "    }\n",
       "\n",
       "    .dataframe thead th {\n",
       "        text-align: left;\n",
       "    }\n",
       "\n",
       "    .dataframe tbody tr th {\n",
       "        vertical-align: top;\n",
       "    }\n",
       "</style>\n",
       "<table border=\"1\" class=\"dataframe\">\n",
       "  <thead>\n",
       "    <tr style=\"text-align: right;\">\n",
       "      <th></th>\n",
       "      <th>cipher</th>\n",
       "    </tr>\n",
       "  </thead>\n",
       "  <tbody>\n",
       "    <tr>\n",
       "      <th>0</th>\n",
       "      <td>cizlmsxtigofkmrmwwmb uyzjsfjegqegkkxpnyqs zrhr...</td>\n",
       "    </tr>\n",
       "    <tr>\n",
       "      <th>1</th>\n",
       "      <td>dxeuwgzusertzjlepsoo lwogawwrlnanbvcadpgb atis...</td>\n",
       "    </tr>\n",
       "    <tr>\n",
       "      <th>2</th>\n",
       "      <td>naisfynfzwrwynnzhsnj edonpjcdbckhaimddcnz inmv...</td>\n",
       "    </tr>\n",
       "    <tr>\n",
       "      <th>3</th>\n",
       "      <td>jwayegnxzsbzmhzcskvx nuzdfdgvqaxuksimxgxp qngm...</td>\n",
       "    </tr>\n",
       "    <tr>\n",
       "      <th>4</th>\n",
       "      <td>bfbscxoklitiezczsmxe dbsgnfojxyvreboskjnd koua...</td>\n",
       "    </tr>\n",
       "    <tr>\n",
       "      <th>5</th>\n",
       "      <td>ujsxibnnwiwwrrungtof thbvxxrtezytsxaezjxm srfv...</td>\n",
       "    </tr>\n",
       "    <tr>\n",
       "      <th>6</th>\n",
       "      <td>nhtpeiohlvtxrtfjttjo gcchupwjqwmhawnhnakh epcr...</td>\n",
       "    </tr>\n",
       "    <tr>\n",
       "      <th>7</th>\n",
       "      <td>nmiuwwkxzbucwmvzhtlh zvomzxrfqwcafkzohnfy gyrf...</td>\n",
       "    </tr>\n",
       "    <tr>\n",
       "      <th>8</th>\n",
       "      <td>oqxuignrpxredwybhpxg upnowfqbzrzqutsjtwqv rsec...</td>\n",
       "    </tr>\n",
       "    <tr>\n",
       "      <th>9</th>\n",
       "      <td>htvcztodkfmdscyppxqc bjaolbnsfoirfybmatsu hnkb...</td>\n",
       "    </tr>\n",
       "    <tr>\n",
       "      <th>10</th>\n",
       "      <td>rrfiyuqzgjatmyhhwqzs uynodfcxplxbxcyitdcz nnpo...</td>\n",
       "    </tr>\n",
       "    <tr>\n",
       "      <th>11</th>\n",
       "      <td>dxascbuobhfqcbjpubrw srrfezdayujyweuvqtzx qjlj...</td>\n",
       "    </tr>\n",
       "    <tr>\n",
       "      <th>12</th>\n",
       "      <td>wejnnbprllielfrrgidq vcxdimwslcpviezmqnpp wkyg...</td>\n",
       "    </tr>\n",
       "    <tr>\n",
       "      <th>13</th>\n",
       "      <td>gpycjslgmqfljlfsxpxp myzliwyzpmiigwhylrmp ixsv...</td>\n",
       "    </tr>\n",
       "    <tr>\n",
       "      <th>14</th>\n",
       "      <td>sakilglfjminjngppiwm cqrvuzutbhqbaeuhgluc akrs...</td>\n",
       "    </tr>\n",
       "    <tr>\n",
       "      <th>15</th>\n",
       "      <td>nwtzpdfeynjerxpbpayl ucbcldwwdkagvjizxkvv fszf...</td>\n",
       "    </tr>\n",
       "    <tr>\n",
       "      <th>16</th>\n",
       "      <td>tcmzpqrtdvuuqcqqfjjz tvzazqwadtlnqemoqtsm qwua...</td>\n",
       "    </tr>\n",
       "    <tr>\n",
       "      <th>17</th>\n",
       "      <td>jsauofsoaqsjrndvvzol chmecxvklstxodjrfvhi rwzn...</td>\n",
       "    </tr>\n",
       "    <tr>\n",
       "      <th>18</th>\n",
       "      <td>fvdyysgwwurjpadvlxtm tqtyvmypftxsiiileejr taii...</td>\n",
       "    </tr>\n",
       "    <tr>\n",
       "      <th>19</th>\n",
       "      <td>odtykdttnscgsegznhho zihnuehxpkhqtmvhmhzx pxgt...</td>\n",
       "    </tr>\n",
       "    <tr>\n",
       "      <th>0</th>\n",
       "      <td>lukkoaezmimshodjlrjq icvyokyajlajthdpxalo vdqe...</td>\n",
       "    </tr>\n",
       "    <tr>\n",
       "      <th>1</th>\n",
       "      <td>behitjkmcfszkgsfbcwu srujjtldknjxqqlibbjx wzmo...</td>\n",
       "    </tr>\n",
       "    <tr>\n",
       "      <th>2</th>\n",
       "      <td>njrcscnszldtazxvnony agwxyylgxlfnwucdguxv mxoq...</td>\n",
       "    </tr>\n",
       "    <tr>\n",
       "      <th>3</th>\n",
       "      <td>gljchoxdkoqkjxklctyd zmvbvgoytjewtoucejgb tzio...</td>\n",
       "    </tr>\n",
       "    <tr>\n",
       "      <th>4</th>\n",
       "      <td>xvqaldwhsmnufzrkooga gxojzvmyeaqshxuctgnb hmiw...</td>\n",
       "    </tr>\n",
       "  </tbody>\n",
       "</table>\n",
       "</div>"
      ],
      "text/plain": [
       "                                               cipher\n",
       "0   cizlmsxtigofkmrmwwmb uyzjsfjegqegkkxpnyqs zrhr...\n",
       "1   dxeuwgzusertzjlepsoo lwogawwrlnanbvcadpgb atis...\n",
       "2   naisfynfzwrwynnzhsnj edonpjcdbckhaimddcnz inmv...\n",
       "3   jwayegnxzsbzmhzcskvx nuzdfdgvqaxuksimxgxp qngm...\n",
       "4   bfbscxoklitiezczsmxe dbsgnfojxyvreboskjnd koua...\n",
       "5   ujsxibnnwiwwrrungtof thbvxxrtezytsxaezjxm srfv...\n",
       "6   nhtpeiohlvtxrtfjttjo gcchupwjqwmhawnhnakh epcr...\n",
       "7   nmiuwwkxzbucwmvzhtlh zvomzxrfqwcafkzohnfy gyrf...\n",
       "8   oqxuignrpxredwybhpxg upnowfqbzrzqutsjtwqv rsec...\n",
       "9   htvcztodkfmdscyppxqc bjaolbnsfoirfybmatsu hnkb...\n",
       "10  rrfiyuqzgjatmyhhwqzs uynodfcxplxbxcyitdcz nnpo...\n",
       "11  dxascbuobhfqcbjpubrw srrfezdayujyweuvqtzx qjlj...\n",
       "12  wejnnbprllielfrrgidq vcxdimwslcpviezmqnpp wkyg...\n",
       "13  gpycjslgmqfljlfsxpxp myzliwyzpmiigwhylrmp ixsv...\n",
       "14  sakilglfjminjngppiwm cqrvuzutbhqbaeuhgluc akrs...\n",
       "15  nwtzpdfeynjerxpbpayl ucbcldwwdkagvjizxkvv fszf...\n",
       "16  tcmzpqrtdvuuqcqqfjjz tvzazqwadtlnqemoqtsm qwua...\n",
       "17  jsauofsoaqsjrndvvzol chmecxvklstxodjrfvhi rwzn...\n",
       "18  fvdyysgwwurjpadvlxtm tqtyvmypftxsiiileejr taii...\n",
       "19  odtykdttnscgsegznhho zihnuehxpkhqtmvhmhzx pxgt...\n",
       "0   lukkoaezmimshodjlrjq icvyokyajlajthdpxalo vdqe...\n",
       "1   behitjkmcfszkgsfbcwu srujjtldknjxqqlibbjx wzmo...\n",
       "2   njrcscnszldtazxvnony agwxyylgxlfnwucdguxv mxoq...\n",
       "3   gljchoxdkoqkjxklctyd zmvbvgoytjewtoucejgb tzio...\n",
       "4   xvqaldwhsmnufzrkooga gxojzvmyeaqshxuctgnb hmiw..."
      ]
     },
     "execution_count": 15,
     "metadata": {},
     "output_type": "execute_result"
    }
   ],
   "source": [
    "vig_train = pd.concat([vig, ss.iloc[:5]])\n",
    "vig_train"
   ]
  },
  {
   "cell_type": "code",
   "execution_count": 16,
   "metadata": {},
   "outputs": [],
   "source": [
    "y_ss = [0]*20 + [1]*5\n",
    "y_vig = [1]*20 + [0]*5"
   ]
  },
  {
   "cell_type": "markdown",
   "metadata": {},
   "source": [
    "# Model"
   ]
  },
  {
   "cell_type": "code",
   "execution_count": 17,
   "metadata": {},
   "outputs": [
    {
     "data": {
      "text/plain": [
       "27"
      ]
     },
     "execution_count": 17,
     "metadata": {},
     "output_type": "execute_result"
    }
   ],
   "source": [
    "v = TfidfVectorizer(analyzer='char')\n",
    "x_ss = v.fit_transform(ss_train['cipher'])\n",
    "len(v.get_feature_names())"
   ]
  },
  {
   "cell_type": "code",
   "execution_count": 20,
   "metadata": {},
   "outputs": [
    {
     "data": {
      "text/plain": [
       "27"
      ]
     },
     "execution_count": 20,
     "metadata": {},
     "output_type": "execute_result"
    }
   ],
   "source": [
    "v = TfidfVectorizer(analyzer='char')\n",
    "x_vig = v.fit_transform(vig_train['cipher'])\n",
    "len(v.get_feature_names())"
   ]
  },
  {
   "cell_type": "code",
   "execution_count": 29,
   "metadata": {},
   "outputs": [
    {
     "data": {
      "text/plain": [
       "SVC(C=1.0, cache_size=200, class_weight=None, coef0=0.0,\n",
       "  decision_function_shape='ovr', degree=3, gamma='auto', kernel='poly',\n",
       "  max_iter=-1, probability=False, random_state=None, shrinking=True,\n",
       "  tol=0.001, verbose=False)"
      ]
     },
     "execution_count": 29,
     "metadata": {},
     "output_type": "execute_result"
    }
   ],
   "source": [
    "from sklearn.svm import SVC\n",
    "clf = SVC(kernel=\"poly\")\n",
    "clf.fit(x_ss, y_ss)"
   ]
  },
  {
   "cell_type": "code",
   "execution_count": 30,
   "metadata": {},
   "outputs": [
    {
     "data": {
      "text/plain": [
       "SVC(C=1.0, cache_size=200, class_weight=None, coef0=0.0,\n",
       "  decision_function_shape='ovr', degree=3, gamma='auto', kernel='poly',\n",
       "  max_iter=-1, probability=False, random_state=None, shrinking=True,\n",
       "  tol=0.001, verbose=False)"
      ]
     },
     "execution_count": 30,
     "metadata": {},
     "output_type": "execute_result"
    }
   ],
   "source": [
    "from sklearn.svm import SVC\n",
    "clf_1 = SVC(kernel=\"poly\")\n",
    "clf_1.fit(x_vig, y_vig)"
   ]
  },
  {
   "cell_type": "markdown",
   "metadata": {},
   "source": [
    "# Test Data Preprocessing"
   ]
  },
  {
   "cell_type": "code",
   "execution_count": 19,
   "metadata": {},
   "outputs": [],
   "source": [
    "# import docx\n",
    "# doc = docx.Document(\"dataset_cryptosystem.docx\")\n",
    "\n",
    "# text = []\n",
    "# for p in doc.paragraphs:\n",
    "#     text.append(p.text)\n",
    "    \n",
    "# len(text)\n",
    "\n",
    "# d = [0,1,2,3,4,5,6,7,8,9,10,11, 12, 13, 15, 17, 19, 21, 23, 25, 27, 29, 31, 33, 34, 35, 36, 38]\n",
    "# d = sorted(d, reverse=True)\n",
    "# for i in d:\n",
    "#     del text[i]\n",
    "\n",
    "test = pd.read_csv(\"test.csv\", columns=[\"cipher\"])\n",
    "\n",
    "y_test = [1]*10 + [0]*10\n",
    "\n",
    "v = TfidfVectorizer(analyzer='char')\n",
    "x_test = v.fit_transform(test['cipher'])\n",
    "\n",
    "# test.to_csv(\"test.csv\", index_label=False, header=False)"
   ]
  },
  {
   "cell_type": "markdown",
   "metadata": {},
   "source": [
    "# Prediction"
   ]
  },
  {
   "cell_type": "code",
   "execution_count": 31,
   "metadata": {},
   "outputs": [
    {
     "data": {
      "text/plain": [
       "array([0, 0, 0, 0, 0, 0, 0, 0, 0, 0, 0, 0, 0, 0, 0, 0, 0, 0, 0, 0])"
      ]
     },
     "execution_count": 31,
     "metadata": {},
     "output_type": "execute_result"
    }
   ],
   "source": [
    "clf.predict(x_test)"
   ]
  },
  {
   "cell_type": "code",
   "execution_count": 32,
   "metadata": {},
   "outputs": [
    {
     "data": {
      "text/plain": [
       "array([1, 1, 1, 1, 1, 1, 1, 1, 1, 1, 1, 1, 1, 1, 1, 1, 1, 1, 1, 1])"
      ]
     },
     "execution_count": 32,
     "metadata": {},
     "output_type": "execute_result"
    }
   ],
   "source": [
    "clf_1.predict(x_test)"
   ]
  }
 ],
 "metadata": {
  "kernelspec": {
   "display_name": "Python 3",
   "language": "python",
   "name": "python3"
  },
  "language_info": {
   "codemirror_mode": {
    "name": "ipython",
    "version": 3
   },
   "file_extension": ".py",
   "mimetype": "text/x-python",
   "name": "python",
   "nbconvert_exporter": "python",
   "pygments_lexer": "ipython3",
   "version": "3.5.1"
  }
 },
 "nbformat": 4,
 "nbformat_minor": 2
}
